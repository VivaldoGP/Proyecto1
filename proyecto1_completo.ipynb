{
 "cells": [
  {
   "cell_type": "code",
   "execution_count": 24,
   "id": "b8592905-c1ee-4ff0-8f7b-e69ad48f7e31",
   "metadata": {},
   "outputs": [],
   "source": [
    "import pandas as pd\n",
    "import geopandas as gpd\n",
    "import numpy as np\n",
    "from os import mkdir, path, getcwd"
   ]
  },
  {
   "cell_type": "code",
   "execution_count": 2,
   "id": "16bd4ed0-086d-40c9-bd59-75877534cbd2",
   "metadata": {},
   "outputs": [],
   "source": [
    "world_population = pd.read_csv(r\"world_pop_data/API_SP.POP.TOTL_DS2_en_csv_v2_4662410.csv\")\n",
    "countries_geometries = gpd.read_file(r\"wb_countries_admin0_10m/WB_countries_Admin0_10m.shp\")"
   ]
  },
  {
   "cell_type": "code",
   "execution_count": 4,
   "id": "372fc7c4-8504-43c2-b9eb-e99ee8200bdc",
   "metadata": {},
   "outputs": [],
   "source": [
    "world_pop_set = set(world_population['Country Code'])\n",
    "countries_geom_set = set(countries_geometries['ISO_A3'])\n",
    "\n",
    "countries_intersection = countries_geom_set.intersection(world_pop_set)"
   ]
  },
  {
   "cell_type": "code",
   "execution_count": 5,
   "id": "984f294e-88e9-47d0-9ed3-d21963f319c3",
   "metadata": {},
   "outputs": [],
   "source": [
    "world_population_filtered = world_population.loc[world_population['Country Code'].isin(countries_intersection)]\n",
    "countries_geom_filtered = countries_geometries.loc[countries_geometries['ISO_A3'].isin(countries_intersection)].drop_duplicates(subset=[\"ISO_A3\"])"
   ]
  },
  {
   "cell_type": "code",
   "execution_count": 11,
   "id": "3df70576-2631-496e-89b4-2b066e6f7925",
   "metadata": {},
   "outputs": [],
   "source": [
    "countries = countries_geom_filtered[['ISO_A3', 'FORMAL_EN', 'NAME_EN', 'geometry']]"
   ]
  },
  {
   "cell_type": "code",
   "execution_count": 29,
   "id": "e1e51b51-384e-49b9-9e4d-10a7e8d4d14f",
   "metadata": {},
   "outputs": [],
   "source": [
    "countries_pop = pd.merge(countries, world_population_filtered, how='inner',\n",
    "                        left_on=\"ISO_A3\", right_on=\"Country Code\")"
   ]
  },
  {
   "cell_type": "code",
   "execution_count": 31,
   "id": "11bb2bde-ff7d-4efc-9336-f88e870ea7ca",
   "metadata": {},
   "outputs": [],
   "source": [
    "countries_pop.fillna(0, inplace=True)"
   ]
  },
  {
   "cell_type": "code",
   "execution_count": 36,
   "id": "06a7758d-f980-4279-8101-c5c8ef9d6563",
   "metadata": {},
   "outputs": [
    {
     "name": "stdin",
     "output_type": "stream",
     "text": [
      "Deseas exportar el archivo?: y/n  y\n",
      "Introduce el nombre de la carpeta en la que estará el archivo:  test2\n",
      "Nombre del archivo con su extensión:  prueba3.shp\n"
     ]
    },
    {
     "name": "stderr",
     "output_type": "stream",
     "text": [
      "C:\\Users\\Vivaldo\\AppData\\Local\\Temp\\ipykernel_1424\\750505104.py:8: UserWarning: Column names longer than 10 characters will be truncated when saved to ESRI Shapefile.\n",
      "  countries_pop.to_file(path_file + \"\\\\\" + filename)\n"
     ]
    }
   ],
   "source": [
    "#Exportar a shape\n",
    "user_input = str(input(\"Deseas exportar el archivo?: y/n \"))\n",
    "if user_input == 'y':\n",
    "    directory = str(input(\"Introduce el nombre de la carpeta en la que estará el archivo: \"))\n",
    "    filename = str(input(\"Nombre del archivo con su extensión: \"))\n",
    "    path_file = path.join(getcwd(), directory)\n",
    "    mkdir(path_file)\n",
    "    countries_pop.to_file(path_file + \"\\\\\" + filename)\n",
    "elif user_input == 'n':\n",
    "    print('adiós')\n",
    "else:\n",
    "    print('no es una opción válida')"
   ]
  },
  {
   "cell_type": "markdown",
   "id": "9aa9ad28-f500-4896-a2e6-f40997a6adcc",
   "metadata": {},
   "source": [
    "## parte 2"
   ]
  },
  {
   "cell_type": "code",
   "execution_count": 37,
   "id": "a4bf45f1-ea47-40f9-8e07-214b7dee9e40",
   "metadata": {},
   "outputs": [],
   "source": [
    "ds = gpd.read_file(r\"test2/prueba3.shp\")"
   ]
  },
  {
   "cell_type": "code",
   "execution_count": 56,
   "id": "2b6ab7eb-09c3-4375-91a6-71925aef4e59",
   "metadata": {},
   "outputs": [
    {
     "data": {
      "text/plain": [
       "(213, 70)"
      ]
     },
     "execution_count": 56,
     "metadata": {},
     "output_type": "execute_result"
    }
   ],
   "source": [
    "ds.shape"
   ]
  },
  {
   "cell_type": "code",
   "execution_count": 45,
   "id": "dc0b357f-2e62-49af-9def-52fb1689d93f",
   "metadata": {},
   "outputs": [],
   "source": [
    "years_data = ds.iloc[:,7:69]"
   ]
  },
  {
   "cell_type": "code",
   "execution_count": 46,
   "id": "b8fab4b9-c9aa-4582-bf91-311a7cb4c078",
   "metadata": {},
   "outputs": [],
   "source": [
    "years = np.array(years_data.columns)"
   ]
  },
  {
   "cell_type": "code",
   "execution_count": 48,
   "id": "fceed80d-7be8-4de3-abc0-eecf0b44385c",
   "metadata": {},
   "outputs": [],
   "source": [
    "column_names_variation = []\n",
    "series_variation = []\n",
    "\n",
    "i = 0\n",
    "for year in years:\n",
    "    start = years[i]\n",
    "    i += 1\n",
    "    end = years[i]\n",
    "    value = ((years_data[end] / years_data[start])-1) * 100\n",
    "    series_variation.append(value)\n",
    "    column_names_variation.append(\"{}-{}\".format(start, end))\n",
    "    #print(start, end, value)\n",
    "    if i == 61:\n",
    "        break\n",
    "    \n",
    "variation_per_year = dict(zip(column_names_variation, series_variation))"
   ]
  },
  {
   "cell_type": "code",
   "execution_count": 50,
   "id": "ece08e78-83f3-4e71-88b2-f3faa342ace4",
   "metadata": {},
   "outputs": [],
   "source": [
    "variation_per_year_df = pd.DataFrame(variation_per_year)"
   ]
  },
  {
   "cell_type": "code",
   "execution_count": 51,
   "id": "64d03f3f-3ee9-4f1c-8091-54813a5bd248",
   "metadata": {},
   "outputs": [
    {
     "data": {
      "text/html": [
       "<div>\n",
       "<style scoped>\n",
       "    .dataframe tbody tr th:only-of-type {\n",
       "        vertical-align: middle;\n",
       "    }\n",
       "\n",
       "    .dataframe tbody tr th {\n",
       "        vertical-align: top;\n",
       "    }\n",
       "\n",
       "    .dataframe thead th {\n",
       "        text-align: right;\n",
       "    }\n",
       "</style>\n",
       "<table border=\"1\" class=\"dataframe\">\n",
       "  <thead>\n",
       "    <tr style=\"text-align: right;\">\n",
       "      <th></th>\n",
       "      <th>1960-1961</th>\n",
       "      <th>1961-1962</th>\n",
       "      <th>1962-1963</th>\n",
       "      <th>1963-1964</th>\n",
       "      <th>1964-1965</th>\n",
       "      <th>1965-1966</th>\n",
       "      <th>1966-1967</th>\n",
       "      <th>1967-1968</th>\n",
       "      <th>1968-1969</th>\n",
       "      <th>1969-1970</th>\n",
       "      <th>...</th>\n",
       "      <th>2011-2012</th>\n",
       "      <th>2012-2013</th>\n",
       "      <th>2013-2014</th>\n",
       "      <th>2014-2015</th>\n",
       "      <th>2015-2016</th>\n",
       "      <th>2016-2017</th>\n",
       "      <th>2017-2018</th>\n",
       "      <th>2018-2019</th>\n",
       "      <th>2019-2020</th>\n",
       "      <th>2020-2021</th>\n",
       "    </tr>\n",
       "  </thead>\n",
       "  <tbody>\n",
       "    <tr>\n",
       "      <th>0</th>\n",
       "      <td>2.674987</td>\n",
       "      <td>2.685927</td>\n",
       "      <td>2.698839</td>\n",
       "      <td>2.716860</td>\n",
       "      <td>2.736098</td>\n",
       "      <td>2.751006</td>\n",
       "      <td>2.756750</td>\n",
       "      <td>2.752878</td>\n",
       "      <td>2.738226</td>\n",
       "      <td>2.715329</td>\n",
       "      <td>...</td>\n",
       "      <td>1.360877</td>\n",
       "      <td>1.349800</td>\n",
       "      <td>1.319576</td>\n",
       "      <td>1.275901</td>\n",
       "      <td>1.228071</td>\n",
       "      <td>1.183142</td>\n",
       "      <td>1.140967</td>\n",
       "      <td>1.103976</td>\n",
       "      <td>1.070872</td>\n",
       "      <td>1.037631</td>\n",
       "    </tr>\n",
       "    <tr>\n",
       "      <th>1</th>\n",
       "      <td>3.205837</td>\n",
       "      <td>3.261129</td>\n",
       "      <td>3.237955</td>\n",
       "      <td>3.120599</td>\n",
       "      <td>2.947224</td>\n",
       "      <td>2.766214</td>\n",
       "      <td>2.617322</td>\n",
       "      <td>2.505017</td>\n",
       "      <td>2.441371</td>\n",
       "      <td>2.414698</td>\n",
       "      <td>...</td>\n",
       "      <td>1.456241</td>\n",
       "      <td>1.378600</td>\n",
       "      <td>1.349500</td>\n",
       "      <td>1.353883</td>\n",
       "      <td>1.366613</td>\n",
       "      <td>1.368772</td>\n",
       "      <td>1.361140</td>\n",
       "      <td>1.337717</td>\n",
       "      <td>1.302697</td>\n",
       "      <td>1.267370</td>\n",
       "    </tr>\n",
       "    <tr>\n",
       "      <th>2</th>\n",
       "      <td>2.100286</td>\n",
       "      <td>2.084478</td>\n",
       "      <td>2.046681</td>\n",
       "      <td>1.982165</td>\n",
       "      <td>1.901550</td>\n",
       "      <td>1.815886</td>\n",
       "      <td>1.739819</td>\n",
       "      <td>1.683403</td>\n",
       "      <td>1.652291</td>\n",
       "      <td>1.639740</td>\n",
       "      <td>...</td>\n",
       "      <td>0.967733</td>\n",
       "      <td>0.983612</td>\n",
       "      <td>1.066829</td>\n",
       "      <td>1.184680</td>\n",
       "      <td>1.334027</td>\n",
       "      <td>1.435345</td>\n",
       "      <td>1.400785</td>\n",
       "      <td>1.189957</td>\n",
       "      <td>0.866261</td>\n",
       "      <td>0.502992</td>\n",
       "    </tr>\n",
       "    <tr>\n",
       "      <th>3</th>\n",
       "      <td>1.968656</td>\n",
       "      <td>1.985597</td>\n",
       "      <td>2.003552</td>\n",
       "      <td>2.025371</td>\n",
       "      <td>2.049291</td>\n",
       "      <td>2.071176</td>\n",
       "      <td>2.090131</td>\n",
       "      <td>2.110850</td>\n",
       "      <td>2.134393</td>\n",
       "      <td>2.158821</td>\n",
       "      <td>...</td>\n",
       "      <td>1.612913</td>\n",
       "      <td>1.587041</td>\n",
       "      <td>1.556974</td>\n",
       "      <td>1.524445</td>\n",
       "      <td>1.491205</td>\n",
       "      <td>1.459695</td>\n",
       "      <td>1.432048</td>\n",
       "      <td>1.408967</td>\n",
       "      <td>1.389087</td>\n",
       "      <td>1.369884</td>\n",
       "    </tr>\n",
       "    <tr>\n",
       "      <th>4</th>\n",
       "      <td>2.871558</td>\n",
       "      <td>2.898976</td>\n",
       "      <td>2.910210</td>\n",
       "      <td>2.902372</td>\n",
       "      <td>2.881732</td>\n",
       "      <td>2.855175</td>\n",
       "      <td>2.831572</td>\n",
       "      <td>2.814456</td>\n",
       "      <td>2.805977</td>\n",
       "      <td>2.802622</td>\n",
       "      <td>...</td>\n",
       "      <td>0.828572</td>\n",
       "      <td>0.905541</td>\n",
       "      <td>1.062626</td>\n",
       "      <td>1.264082</td>\n",
       "      <td>1.494211</td>\n",
       "      <td>1.675815</td>\n",
       "      <td>1.733115</td>\n",
       "      <td>1.629287</td>\n",
       "      <td>1.419186</td>\n",
       "      <td>1.175457</td>\n",
       "    </tr>\n",
       "    <tr>\n",
       "      <th>...</th>\n",
       "      <td>...</td>\n",
       "      <td>...</td>\n",
       "      <td>...</td>\n",
       "      <td>...</td>\n",
       "      <td>...</td>\n",
       "      <td>...</td>\n",
       "      <td>...</td>\n",
       "      <td>...</td>\n",
       "      <td>...</td>\n",
       "      <td>...</td>\n",
       "      <td>...</td>\n",
       "      <td>...</td>\n",
       "      <td>...</td>\n",
       "      <td>...</td>\n",
       "      <td>...</td>\n",
       "      <td>...</td>\n",
       "      <td>...</td>\n",
       "      <td>...</td>\n",
       "      <td>...</td>\n",
       "      <td>...</td>\n",
       "      <td>...</td>\n",
       "    </tr>\n",
       "    <tr>\n",
       "      <th>208</th>\n",
       "      <td>2.635271</td>\n",
       "      <td>1.903739</td>\n",
       "      <td>1.465798</td>\n",
       "      <td>1.784534</td>\n",
       "      <td>2.254174</td>\n",
       "      <td>2.884877</td>\n",
       "      <td>3.368310</td>\n",
       "      <td>3.514459</td>\n",
       "      <td>3.642357</td>\n",
       "      <td>3.363282</td>\n",
       "      <td>...</td>\n",
       "      <td>0.542462</td>\n",
       "      <td>0.883880</td>\n",
       "      <td>0.940021</td>\n",
       "      <td>0.864360</td>\n",
       "      <td>0.731458</td>\n",
       "      <td>0.651396</td>\n",
       "      <td>0.594133</td>\n",
       "      <td>0.569530</td>\n",
       "      <td>0.601262</td>\n",
       "      <td>0.613305</td>\n",
       "    </tr>\n",
       "    <tr>\n",
       "      <th>209</th>\n",
       "      <td>3.367625</td>\n",
       "      <td>3.121519</td>\n",
       "      <td>2.888992</td>\n",
       "      <td>2.664167</td>\n",
       "      <td>2.484581</td>\n",
       "      <td>2.322442</td>\n",
       "      <td>2.229059</td>\n",
       "      <td>2.342140</td>\n",
       "      <td>2.683751</td>\n",
       "      <td>3.188748</td>\n",
       "      <td>...</td>\n",
       "      <td>1.704725</td>\n",
       "      <td>1.160590</td>\n",
       "      <td>1.600269</td>\n",
       "      <td>2.677997</td>\n",
       "      <td>3.931908</td>\n",
       "      <td>4.789195</td>\n",
       "      <td>5.044118</td>\n",
       "      <td>4.570038</td>\n",
       "      <td>3.681472</td>\n",
       "      <td>2.745208</td>\n",
       "    </tr>\n",
       "    <tr>\n",
       "      <th>210</th>\n",
       "      <td>1.591823</td>\n",
       "      <td>3.356681</td>\n",
       "      <td>4.572956</td>\n",
       "      <td>5.053597</td>\n",
       "      <td>4.994937</td>\n",
       "      <td>4.903456</td>\n",
       "      <td>4.797152</td>\n",
       "      <td>4.290651</td>\n",
       "      <td>3.362632</td>\n",
       "      <td>2.223911</td>\n",
       "      <td>...</td>\n",
       "      <td>2.397097</td>\n",
       "      <td>2.363497</td>\n",
       "      <td>2.224231</td>\n",
       "      <td>2.013351</td>\n",
       "      <td>1.782283</td>\n",
       "      <td>1.591648</td>\n",
       "      <td>1.454436</td>\n",
       "      <td>1.395272</td>\n",
       "      <td>1.389032</td>\n",
       "      <td>1.393565</td>\n",
       "    </tr>\n",
       "    <tr>\n",
       "      <th>211</th>\n",
       "      <td>1.323983</td>\n",
       "      <td>1.434669</td>\n",
       "      <td>1.357625</td>\n",
       "      <td>1.346770</td>\n",
       "      <td>1.382125</td>\n",
       "      <td>1.313725</td>\n",
       "      <td>1.139588</td>\n",
       "      <td>1.043959</td>\n",
       "      <td>1.164700</td>\n",
       "      <td>1.246639</td>\n",
       "      <td>...</td>\n",
       "      <td>0.370741</td>\n",
       "      <td>0.295256</td>\n",
       "      <td>0.360476</td>\n",
       "      <td>0.444204</td>\n",
       "      <td>0.533597</td>\n",
       "      <td>0.592954</td>\n",
       "      <td>0.585642</td>\n",
       "      <td>0.657222</td>\n",
       "      <td>0.557087</td>\n",
       "      <td>0.526933</td>\n",
       "    </tr>\n",
       "    <tr>\n",
       "      <th>212</th>\n",
       "      <td>2.019563</td>\n",
       "      <td>2.574699</td>\n",
       "      <td>2.006446</td>\n",
       "      <td>2.117071</td>\n",
       "      <td>1.663186</td>\n",
       "      <td>1.807183</td>\n",
       "      <td>1.801263</td>\n",
       "      <td>0.881025</td>\n",
       "      <td>0.898803</td>\n",
       "      <td>1.366849</td>\n",
       "      <td>...</td>\n",
       "      <td>0.549726</td>\n",
       "      <td>0.771307</td>\n",
       "      <td>1.674884</td>\n",
       "      <td>2.056902</td>\n",
       "      <td>2.271445</td>\n",
       "      <td>2.110689</td>\n",
       "      <td>1.807379</td>\n",
       "      <td>1.603885</td>\n",
       "      <td>2.229274</td>\n",
       "      <td>0.636517</td>\n",
       "    </tr>\n",
       "  </tbody>\n",
       "</table>\n",
       "<p>213 rows × 61 columns</p>\n",
       "</div>"
      ],
      "text/plain": [
       "     1960-1961  1961-1962  1962-1963  1963-1964  1964-1965  1965-1966  \\\n",
       "0     2.674987   2.685927   2.698839   2.716860   2.736098   2.751006   \n",
       "1     3.205837   3.261129   3.237955   3.120599   2.947224   2.766214   \n",
       "2     2.100286   2.084478   2.046681   1.982165   1.901550   1.815886   \n",
       "3     1.968656   1.985597   2.003552   2.025371   2.049291   2.071176   \n",
       "4     2.871558   2.898976   2.910210   2.902372   2.881732   2.855175   \n",
       "..         ...        ...        ...        ...        ...        ...   \n",
       "208   2.635271   1.903739   1.465798   1.784534   2.254174   2.884877   \n",
       "209   3.367625   3.121519   2.888992   2.664167   2.484581   2.322442   \n",
       "210   1.591823   3.356681   4.572956   5.053597   4.994937   4.903456   \n",
       "211   1.323983   1.434669   1.357625   1.346770   1.382125   1.313725   \n",
       "212   2.019563   2.574699   2.006446   2.117071   1.663186   1.807183   \n",
       "\n",
       "     1966-1967  1967-1968  1968-1969  1969-1970  ...  2011-2012  2012-2013  \\\n",
       "0     2.756750   2.752878   2.738226   2.715329  ...   1.360877   1.349800   \n",
       "1     2.617322   2.505017   2.441371   2.414698  ...   1.456241   1.378600   \n",
       "2     1.739819   1.683403   1.652291   1.639740  ...   0.967733   0.983612   \n",
       "3     2.090131   2.110850   2.134393   2.158821  ...   1.612913   1.587041   \n",
       "4     2.831572   2.814456   2.805977   2.802622  ...   0.828572   0.905541   \n",
       "..         ...        ...        ...        ...  ...        ...        ...   \n",
       "208   3.368310   3.514459   3.642357   3.363282  ...   0.542462   0.883880   \n",
       "209   2.229059   2.342140   2.683751   3.188748  ...   1.704725   1.160590   \n",
       "210   4.797152   4.290651   3.362632   2.223911  ...   2.397097   2.363497   \n",
       "211   1.139588   1.043959   1.164700   1.246639  ...   0.370741   0.295256   \n",
       "212   1.801263   0.881025   0.898803   1.366849  ...   0.549726   0.771307   \n",
       "\n",
       "     2013-2014  2014-2015  2015-2016  2016-2017  2017-2018  2018-2019  \\\n",
       "0     1.319576   1.275901   1.228071   1.183142   1.140967   1.103976   \n",
       "1     1.349500   1.353883   1.366613   1.368772   1.361140   1.337717   \n",
       "2     1.066829   1.184680   1.334027   1.435345   1.400785   1.189957   \n",
       "3     1.556974   1.524445   1.491205   1.459695   1.432048   1.408967   \n",
       "4     1.062626   1.264082   1.494211   1.675815   1.733115   1.629287   \n",
       "..         ...        ...        ...        ...        ...        ...   \n",
       "208   0.940021   0.864360   0.731458   0.651396   0.594133   0.569530   \n",
       "209   1.600269   2.677997   3.931908   4.789195   5.044118   4.570038   \n",
       "210   2.224231   2.013351   1.782283   1.591648   1.454436   1.395272   \n",
       "211   0.360476   0.444204   0.533597   0.592954   0.585642   0.657222   \n",
       "212   1.674884   2.056902   2.271445   2.110689   1.807379   1.603885   \n",
       "\n",
       "     2019-2020  2020-2021  \n",
       "0     1.070872   1.037631  \n",
       "1     1.302697   1.267370  \n",
       "2     0.866261   0.502992  \n",
       "3     1.389087   1.369884  \n",
       "4     1.419186   1.175457  \n",
       "..         ...        ...  \n",
       "208   0.601262   0.613305  \n",
       "209   3.681472   2.745208  \n",
       "210   1.389032   1.393565  \n",
       "211   0.557087   0.526933  \n",
       "212   2.229274   0.636517  \n",
       "\n",
       "[213 rows x 61 columns]"
      ]
     },
     "execution_count": 51,
     "metadata": {},
     "output_type": "execute_result"
    }
   ],
   "source": [
    "variation_per_year_df"
   ]
  },
  {
   "cell_type": "code",
   "execution_count": 52,
   "id": "a0abb55d-95eb-489d-b9df-54e8878bbcde",
   "metadata": {},
   "outputs": [],
   "source": [
    "final_df = pd.concat([ds, variation_per_year_df], axis=1, join='inner')"
   ]
  },
  {
   "cell_type": "code",
   "execution_count": 57,
   "id": "096ddfd2-8959-42c7-a4c5-af6f7aeb7cdb",
   "metadata": {},
   "outputs": [],
   "source": [
    "final_df.to_file(\"test2/final.shp\")"
   ]
  },
  {
   "cell_type": "markdown",
   "id": "f9be1d6a-34c5-47d6-8430-a7c04266bd38",
   "metadata": {},
   "source": [
    "## Plot by variation"
   ]
  },
  {
   "cell_type": "code",
   "execution_count": 65,
   "id": "7a249880-c7e8-42ab-83d5-77230a1cf574",
   "metadata": {},
   "outputs": [],
   "source": [
    "map_years = final_df.iloc[:, 70:131]"
   ]
  },
  {
   "cell_type": "code",
   "execution_count": 66,
   "id": "f83f3fb4-7952-4400-bd7b-e14b888cbf83",
   "metadata": {},
   "outputs": [],
   "source": [
    "years_to_iter = np.array(map_years.columns)"
   ]
  },
  {
   "cell_type": "code",
   "execution_count": 83,
   "id": "bc7e8323-72db-4be0-8998-4eda6ffb5696",
   "metadata": {},
   "outputs": [
    {
     "data": {
      "image/png": "[encoded data removed]",
      "text/plain": [
       "<Figure size 432x288 with 2 Axes>"
      ]
     },
     "metadata": {
      "needs_background": "light"
     },
     "output_type": "display_data"
    },
    {
     "data": {
      "image/png": "[encoded data removed]",
      "text/plain": [
       "<Figure size 432x288 with 2 Axes>"
      ]
     },
     "metadata": {
      "needs_background": "light"
     },
     "output_type": "display_data"
    }
   ],
   "source": [
    "i = 0\n",
    "for period in years_to_iter:\n",
    "    i+=1\n",
    "    \n",
    "    final_df[[\"geometry\",period]].plot(period, cmap=\"plasma\", legend=True)\n",
    "    if i == 2:\n",
    "        break"
   ]
  }
 ],
 "metadata": {
  "kernelspec": {
   "display_name": "Python 3 (ipykernel)",
   "language": "python",
   "name": "python3"
  },
  "language_info": {
   "codemirror_mode": {
    "name": "ipython",
    "version": 3
   },
   "file_extension": ".py",
   "mimetype": "text/x-python",
   "name": "python",
   "nbconvert_exporter": "python",
   "pygments_lexer": "ipython3",
   "version": "3.10.5"
  }
 },
 "nbformat": 4,
 "nbformat_minor": 5
}
