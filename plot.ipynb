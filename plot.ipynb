{
 "cells": [
  {
   "cell_type": "code",
   "execution_count": 1,
   "id": "088f4a12-3c5c-48d5-8dfd-465e637ace47",
   "metadata": {},
   "outputs": [],
   "source": [
    "import pandas as pd\n",
    "import geopandas as gpd\n",
    "import numpy as np\n",
    "import matplotlib.pyplot as plt\n",
    "from os import mkdir, path, getcwd\n",
    "from osgeo import ogr"
   ]
  },
  {
   "cell_type": "code",
   "execution_count": 38,
   "id": "cb967fe4-7cb8-4216-9f9e-7a5e2ccd2e01",
   "metadata": {},
   "outputs": [
    {
     "name": "stdout",
     "output_type": "stream",
     "text": [
      "Indonesia\n",
      "Malaysia\n"
     ]
    }
   ],
   "source": [
    "ds = ogr.Open(r'test2')\n",
    "\n",
    "\n",
    "\n",
    "def create_temp_lyr(datasource, percentage, period):\n",
    "    sql_statment = 'SELECT * FROM final order by {0} desc limit {1}'.format(period, percentage)\n",
    "    lyr = datasource.ExecuteSQL(sql_statment, dialect='SQLite')\n",
    "    for row in lyr:\n",
    "        print(row.GetField('NAME_EN'))\n",
    "        \n",
    "\n",
    "def get_variation_values(ds, period):\n",
    "    \n",
    "    var_values = []\n",
    "    \n",
    "    for feature in ds.GetLayer(0):\n",
    "        var_values.append(feature.GetField(period))\n",
    "        \n",
    "    var_array = np.array(var_values)\n",
    "    \n",
    "    return np.sort(var_array)[::-1]\n",
    "    \n",
    "\n",
    "\n",
    "create_temp_lyr(datasource=ds, percentage=2, period=\"2010-2011\")\n"
   ]
  },
  {
   "cell_type": "code",
   "execution_count": 45,
   "id": "e13d5c8e-905d-4ab0-bdd7-253c079e084d",
   "metadata": {},
   "outputs": [],
   "source": [
    "sql = '''SELECT * FROM \"final\" order by \"2010-2011\" asc limit 10'''\n",
    "lyr = ds.ExecuteSQL(sql, dialect = 'SQLite')"
   ]
  },
  {
   "cell_type": "code",
   "execution_count": 46,
   "id": "399cced8-001c-4dc5-8b8a-01e381b6fe4a",
   "metadata": {},
   "outputs": [
    {
     "name": "stdout",
     "output_type": "stream",
     "text": [
      "Seychelles\n",
      "Lithuania\n",
      "Germany\n",
      "Sint Maarten\n",
      "Latvia\n",
      "Syria\n",
      "Bosnia and Herzegovina\n",
      "Puerto Rico\n",
      "Palau\n",
      "Bermuda\n"
     ]
    }
   ],
   "source": [
    "for i in lyr:\n",
    "    print(i.GetField('NAME_EN'))"
   ]
  }
 ],
 "metadata": {
  "kernelspec": {
   "display_name": "Python 3 (ipykernel)",
   "language": "python",
   "name": "python3"
  },
  "language_info": {
   "codemirror_mode": {
    "name": "ipython",
    "version": 3
   },
   "file_extension": ".py",
   "mimetype": "text/x-python",
   "name": "python",
   "nbconvert_exporter": "python",
   "pygments_lexer": "ipython3",
   "version": "3.10.5"
  }
 },
 "nbformat": 4,
 "nbformat_minor": 5
}
