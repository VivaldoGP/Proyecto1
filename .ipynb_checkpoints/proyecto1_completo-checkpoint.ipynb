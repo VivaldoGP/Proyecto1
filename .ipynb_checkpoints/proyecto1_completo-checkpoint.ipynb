{
 "cells": [
  {
   "cell_type": "code",
   "execution_count": 24,
   "id": "b8592905-c1ee-4ff0-8f7b-e69ad48f7e31",
   "metadata": {},
   "outputs": [],
   "source": [
    "import pandas as pd\n",
    "import geopandas as gpd\n",
    "import numpy as np\n",
    "from os import mkdir, path, getcwd"
   ]
  },
  {
   "cell_type": "code",
   "execution_count": 2,
   "id": "16bd4ed0-086d-40c9-bd59-75877534cbd2",
   "metadata": {},
   "outputs": [],
   "source": [
    "world_population = pd.read_csv(r\"world_pop_data/API_SP.POP.TOTL_DS2_en_csv_v2_4662410.csv\")\n",
    "countries_geometries = gpd.read_file(r\"wb_countries_admin0_10m/WB_countries_Admin0_10m.shp\")"
   ]
  },
  {
   "cell_type": "code",
   "execution_count": 4,
   "id": "372fc7c4-8504-43c2-b9eb-e99ee8200bdc",
   "metadata": {},
   "outputs": [],
   "source": [
    "world_pop_set = set(world_population['Country Code'])\n",
    "countries_geom_set = set(countries_geometries['ISO_A3'])\n",
    "\n",
    "countries_intersection = countries_geom_set.intersection(world_pop_set)"
   ]
  },
  {
   "cell_type": "code",
   "execution_count": 5,
   "id": "984f294e-88e9-47d0-9ed3-d21963f319c3",
   "metadata": {},
   "outputs": [],
   "source": [
    "world_population_filtered = world_population.loc[world_population['Country Code'].isin(countries_intersection)]\n",
    "countries_geom_filtered = countries_geometries.loc[countries_geometries['ISO_A3'].isin(countries_intersection)].drop_duplicates(subset=[\"ISO_A3\"])"
   ]
  },
  {
   "cell_type": "code",
   "execution_count": 10,
   "id": "d5b5eb9e-338c-4e68-8715-85553a410954",
   "metadata": {},
   "outputs": [
    {
     "data": {
      "text/plain": [
       "Index(['OBJECTID', 'featurecla', 'LEVEL', 'TYPE', 'FORMAL_EN', 'FORMAL_FR',\n",
       "       'POP_EST', 'POP_RANK', 'GDP_MD_EST', 'POP_YEAR', 'LASTCENSUS',\n",
       "       'GDP_YEAR', 'ECONOMY', 'INCOME_GRP', 'FIPS_10_', 'ISO_A2', 'ISO_A3',\n",
       "       'ISO_A3_EH', 'ISO_N3', 'UN_A3', 'WB_A2', 'WB_A3', 'CONTINENT',\n",
       "       'REGION_UN', 'SUBREGION', 'REGION_WB', 'NAME_AR', 'NAME_BN', 'NAME_DE',\n",
       "       'NAME_EN', 'NAME_ES', 'NAME_FR', 'NAME_EL', 'NAME_HI', 'NAME_HU',\n",
       "       'NAME_ID', 'NAME_IT', 'NAME_JA', 'NAME_KO', 'NAME_NL', 'NAME_PL',\n",
       "       'NAME_PT', 'NAME_RU', 'NAME_SV', 'NAME_TR', 'NAME_VI', 'NAME_ZH',\n",
       "       'WB_NAME', 'WB_RULES', 'WB_REGION', 'Shape_Leng', 'Shape_Area',\n",
       "       'geometry'],\n",
       "      dtype='object')"
      ]
     },
     "execution_count": 10,
     "metadata": {},
     "output_type": "execute_result"
    }
   ],
   "source": [
    "countries_geom_filtered.columns"
   ]
  },
  {
   "cell_type": "code",
   "execution_count": 11,
   "id": "3df70576-2631-496e-89b4-2b066e6f7925",
   "metadata": {},
   "outputs": [],
   "source": [
    "countries = countries_geom_filtered[['ISO_A3', 'FORMAL_EN', 'NAME_EN', 'geometry']]"
   ]
  },
  {
   "cell_type": "code",
   "execution_count": 29,
   "id": "e1e51b51-384e-49b9-9e4d-10a7e8d4d14f",
   "metadata": {},
   "outputs": [],
   "source": [
    "countries_pop = pd.merge(countries, world_population_filtered, how='inner',\n",
    "                        left_on=\"ISO_A3\", right_on=\"Country Code\")"
   ]
  },
  {
   "cell_type": "code",
   "execution_count": 31,
   "id": "11bb2bde-ff7d-4efc-9336-f88e870ea7ca",
   "metadata": {},
   "outputs": [],
   "source": [
    "countries_pop.fillna(0, inplace=True)"
   ]
  },
  {
   "cell_type": "code",
   "execution_count": 34,
   "id": "06a7758d-f980-4279-8101-c5c8ef9d6563",
   "metadata": {},
   "outputs": [
    {
     "name": "stdin",
     "output_type": "stream",
     "text": [
      "Deseas exportar el archivo?: y/n  y\n",
      "Introduce el nombre de la carpeta en la que estará el archivo:  test2\n",
      "Nombre del archivo con su extensión:  prueba3.shp\n"
     ]
    },
    {
     "name": "stderr",
     "output_type": "stream",
     "text": [
      "C:\\Users\\Vivaldo\\AppData\\Local\\Temp\\ipykernel_1424\\4243136414.py:8: UserWarning: Column names longer than 10 characters will be truncated when saved to ESRI Shapefile.\n",
      "  countries_pop.to_file(path_file + filename)\n"
     ]
    }
   ],
   "source": [
    "#Exportar a shape\n",
    "user_input = str(input(\"Deseas exportar el archivo?: y/n \"))\n",
    "if user_input == 'y':\n",
    "    directory = str(input(\"Introduce el nombre de la carpeta en la que estará el archivo: \"))\n",
    "    filename = str(input(\"Nombre del archivo con su extensión: \"))\n",
    "    path_file = path.join(getcwd(), directory)\n",
    "    mkdir(path_file)\n",
    "    countries_pop.to_file(path_file + filename)\n",
    "elif user_input == 'n':\n",
    "    print('adiós')\n",
    "else:\n",
    "    print('no es una opción válida')"
   ]
  },
  {
   "cell_type": "code",
   "execution_count": 25,
   "id": "85f1e89a-f39b-4d9d-8b92-ae8432dcd903",
   "metadata": {},
   "outputs": [
    {
     "data": {
      "text/plain": [
       "'C:\\\\Users\\\\Vivaldo\\\\Documents\\\\nnoveno\\\\programacion\\\\proyecto1'"
      ]
     },
     "execution_count": 25,
     "metadata": {},
     "output_type": "execute_result"
    }
   ],
   "source": [
    "getcwd()"
   ]
  }
 ],
 "metadata": {
  "kernelspec": {
   "display_name": "Python 3 (ipykernel)",
   "language": "python",
   "name": "python3"
  },
  "language_info": {
   "codemirror_mode": {
    "name": "ipython",
    "version": 3
   },
   "file_extension": ".py",
   "mimetype": "text/x-python",
   "name": "python",
   "nbconvert_exporter": "python",
   "pygments_lexer": "ipython3",
   "version": "3.10.5"
  }
 },
 "nbformat": 4,
 "nbformat_minor": 5
}
